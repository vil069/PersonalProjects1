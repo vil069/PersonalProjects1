{
 "cells": [
  {
   "cell_type": "markdown",
   "id": "d577597b",
   "metadata": {},
   "source": [
    "The following project is a recreation from this source: \n",
    "https://data-flair.training/blogs/hangman-game-python-code/"
   ]
  },
  {
   "cell_type": "code",
   "execution_count": 11,
   "id": "b4375d5f",
   "metadata": {},
   "outputs": [],
   "source": [
    "import time\n",
    "import random"
   ]
  },
  {
   "cell_type": "code",
   "execution_count": 12,
   "id": "1e07c1f3",
   "metadata": {},
   "outputs": [
    {
     "name": "stdout",
     "output_type": "stream",
     "text": [
      "\n",
      "Welcome to Hangman game by DataFlair\n",
      "\n",
      "Enter your name: Vincent\n",
      "Hello Vincent! Best of Luck!\n",
      "The game is about to start!\n",
      "Let's play Hangman!\n"
     ]
    }
   ],
   "source": [
    "print(\"\\nWelcome to Hangman game by DataFlair\\n\")\n",
    "name = input(\"Enter your name: \")\n",
    "print(\"Hello \" + name + \"! Best of Luck!\")\n",
    "time.sleep(2)\n",
    "print(\"The game is about to start!\\nLet's play Hangman!\")\n",
    "time.sleep(3)"
   ]
  },
  {
   "cell_type": "code",
   "execution_count": 13,
   "id": "38e8657d",
   "metadata": {},
   "outputs": [],
   "source": [
    "#One gripe I have about this setup personally is that I would prefer that\n",
    "#variables that are intended to be global simply be initialized outside of\n",
    "#the function. However, I can see that it would be a bit harder as the variables\n",
    "#have to be initialized with some value if done that way.\n",
    "def main():\n",
    "    global count\n",
    "    global display\n",
    "    global word\n",
    "    global already_guessed\n",
    "    global length\n",
    "    global play_game\n",
    "    words_to_guess = [\"january\", \"border\", \"image\", \"film\", \"promise\", \"kids\",\n",
    "                     \"lungs\", \"doll\", \"rhyme\", \"damage\", \"plants\"]\n",
    "    word = random.choice(words_to_guess)\n",
    "    length = len(word)\n",
    "    count = 0\n",
    "    display = '_' * length\n",
    "    already_guessed = []\n",
    "    play_game = \"\""
   ]
  },
  {
   "cell_type": "code",
   "execution_count": 14,
   "id": "7eec31e8",
   "metadata": {},
   "outputs": [],
   "source": [
    "def play_loop():\n",
    "    global play_game\n",
    "    play_game = input(\"Do you want to play again? y = yes, n = no \\n\")\n",
    "    while play_game not in [\"y\", \"n\", \"Y\", \"N\"]:\n",
    "        play_game = input(\"Do you want to play again? y = yes, n = no \\n\")\n",
    "    if play_game == \"y\" or play_game == \"Y\":\n",
    "        main()\n",
    "    elif play_game == \"n\" or play_game == \"N\":\n",
    "        print(\"Thanks for Playing! We hope to see you again!\")\n",
    "        exit()"
   ]
  },
  {
   "cell_type": "code",
   "execution_count": 2,
   "id": "5dc6d1f5",
   "metadata": {},
   "outputs": [
    {
     "ename": "NameError",
     "evalue": "name 'main' is not defined",
     "output_type": "error",
     "traceback": [
      "\u001b[1;31m---------------------------------------------------------------------------\u001b[0m",
      "\u001b[1;31mNameError\u001b[0m                                 Traceback (most recent call last)",
      "\u001b[1;32m<ipython-input-2-0886a682dba2>\u001b[0m in \u001b[0;36m<module>\u001b[1;34m\u001b[0m\n\u001b[0;32m     80\u001b[0m             \u001b[0mhangman\u001b[0m\u001b[1;33m(\u001b[0m\u001b[1;33m)\u001b[0m\u001b[1;33m\u001b[0m\u001b[1;33m\u001b[0m\u001b[0m\n\u001b[0;32m     81\u001b[0m \u001b[1;33m\u001b[0m\u001b[0m\n\u001b[1;32m---> 82\u001b[1;33m \u001b[0mmain\u001b[0m\u001b[1;33m(\u001b[0m\u001b[1;33m)\u001b[0m\u001b[1;33m\u001b[0m\u001b[1;33m\u001b[0m\u001b[0m\n\u001b[0m\u001b[0;32m     83\u001b[0m \u001b[0mhangman\u001b[0m\u001b[1;33m(\u001b[0m\u001b[1;33m)\u001b[0m\u001b[1;33m\u001b[0m\u001b[1;33m\u001b[0m\u001b[0m\n",
      "\u001b[1;31mNameError\u001b[0m: name 'main' is not defined"
     ]
    }
   ],
   "source": [
    "def hangman():\n",
    "    global count\n",
    "    global display\n",
    "    global word\n",
    "    global already_guessed\n",
    "    global play_game\n",
    "    limit = 5\n",
    "    guess = input(\"This is the Hangman Word: \" + display + \" Enter your guess: \\n\")\n",
    "    guess = guess.strip()\n",
    "    if len(guess.strip()) == 0 or len(guess.strip()) >= 2 or guess <= \"9\":\n",
    "        print(\"Invalid input, Try a letter\\n\")\n",
    "        hangman()\n",
    "    elif guess in word:\n",
    "        already_guessed.extend([guess])\n",
    "        index = word.find(guess)\n",
    "        word = word[:index] + \"_\" + word[index+1:]\n",
    "        display = display[:index] + guess + display[index + 1:]\n",
    "        print(display + \"\\n\")\n",
    "    \n",
    "    elif guess in already_guessed:\n",
    "        print(\"Try another letter.\\n\")\n",
    "        \n",
    "    else:\n",
    "        count+=1\n",
    "        \n",
    "        if count == 1:\n",
    "            time.sleep(1)\n",
    "            print(\"   _____ \\n\"\n",
    "                  \"  |      \\n\"\n",
    "                  \"  |      \\n\"\n",
    "                  \"  |      \\n\"\n",
    "                  \"  |      \\n\"\n",
    "                  \"  |      \\n\"\n",
    "                  \"  |      \\n\"\n",
    "                  \"__|__\\n\")\n",
    "            print(\"Wrong guess. \" + str(limit - count) + \" guesses remaining\\n\")\n",
    "            \n",
    "        elif count == 2:\n",
    "            time.sleep(1)\n",
    "            print(\"   _____ \\n\"\n",
    "                  \"  |     | \\n\"\n",
    "                  \"  |     |\\n\"\n",
    "                  \"  |      \\n\"\n",
    "                  \"  |      \\n\"\n",
    "                  \"  |      \\n\"\n",
    "                  \"  |      \\n\"\n",
    "                  \"__|__\\n\")\n",
    "            print(\"Wrong guess. \" + str(limit - count) + \" guesses remaining\\n\")\n",
    "            \n",
    "        elif count == 4:\n",
    "            time.sleep(1)\n",
    "            print(\"   _____ \\n\"\n",
    "                  \"  |     | \\n\"\n",
    "                  \"  |     |\\n\"\n",
    "                  \"  |     | \\n\"\n",
    "                  \"  |     O \\n\"\n",
    "                  \"  |      \\n\"\n",
    "                  \"  |      \\n\"\n",
    "                  \"__|__\\n\")\n",
    "            print(\"Wrong guess. \" + str(limit - count) + \" last guess remaining\\n\")\n",
    "            \n",
    "        elif count == 5:\n",
    "            time.sleep(1)\n",
    "            print(\"   _____ \\n\"\n",
    "                  \"  |     | \\n\"\n",
    "                  \"  |     |\\n\"\n",
    "                  \"  |     | \\n\"\n",
    "                  \"  |     O \\n\"\n",
    "                  \"  |    /|\\ \\n\"\n",
    "                  \"  |    / \\ \\n\"\n",
    "                  \"__|__\\n\")\n",
    "            print(\"Wrong guess. You are hanged!!!\\n\")\n",
    "            print(\"The word was:\", already_guessed ,word)\n",
    "            play_loop()\n",
    "    if word == \"_\" * length:\n",
    "        print(\"Congrats! You have guessed the word correctly!\")\n",
    "        play_loop()\n",
    "            \n",
    "    elif count != limit:\n",
    "            hangman()\n",
    "            \n",
    "main()\n",
    "hangman()"
   ]
  },
  {
   "cell_type": "code",
   "execution_count": null,
   "id": "0345b867",
   "metadata": {},
   "outputs": [],
   "source": []
  }
 ],
 "metadata": {
  "kernelspec": {
   "display_name": "Python 3",
   "language": "python",
   "name": "python3"
  },
  "language_info": {
   "codemirror_mode": {
    "name": "ipython",
    "version": 3
   },
   "file_extension": ".py",
   "mimetype": "text/x-python",
   "name": "python",
   "nbconvert_exporter": "python",
   "pygments_lexer": "ipython3",
   "version": "3.8.8"
  }
 },
 "nbformat": 4,
 "nbformat_minor": 5
}
